{
  "cells": [
    {
      "cell_type": "code",
      "execution_count": null,
      "metadata": {
        "id": "HArWRYrXd5KS"
      },
      "outputs": [],
      "source": [
        "import pandas as pd\n",
        "import numpy as np\n",
        "# from cuml.manifold import UMAP\n",
        "import umap\n",
        "import json"
      ]
    },
    {
      "cell_type": "code",
      "execution_count": null,
      "metadata": {
        "id": "RkTap1b2fETq"
      },
      "outputs": [],
      "source": [
        "# Downsample to 50k points\n",
        "\n",
        "df_raw = pd.read_csv('mammoth_a.csv')\n",
        "df = df_raw.sample(50000)"
      ]
    },
    {
      "cell_type": "code",
      "execution_count": null,
      "metadata": {
        "id": "0H063Y3A4U8R"
      },
      "outputs": [],
      "source": [
        "# Test UMAP\n",
        "\n",
        "reducer = umap.UMAP(n_neighbors=200, init='spectral', verbose=True)\n",
        "\n",
        "embedding = reducer.fit_transform(df)"
      ]
    },
    {
      "cell_type": "code",
      "execution_count": null,
      "metadata": {
        "id": "OixKxUFoAtdH"
      },
      "outputs": [],
      "source": [
        "# Plot UMAP projection\n",
        "\n",
        "import matplotlib.pyplot as plt\n",
        "\n",
        "plt.figure(figsize=(40,40),facecolor='w')\n",
        "\n",
        "plt.axis('off')\n",
        "plt.scatter(reducer.embedding_[:, 0], reducer.embedding_[:, 1], s=2.5, c='black')"
      ]
    },
    {
      "cell_type": "code",
      "execution_count": null,
      "metadata": {
        "id": "8YYxSP26id2B"
      },
      "outputs": [],
      "source": [
        "# Cluster for colors\n",
        "\n",
        "from sklearn.cluster import AgglomerativeClustering\n",
        "clustering = AgglomerativeClustering(n_clusters=12).fit(df)\n",
        "from sklearn.model_selection import train_test_split\n",
        "from sklearn.neighbors import KNeighborsClassifier\n",
        "\n",
        "X_train, X_test, y_train, y_test = \\\n",
        "    train_test_split(df, df,\n",
        "                     test_size=45000, random_state=42)\n",
        "AC = AgglomerativeClustering(n_clusters=11, linkage='ward')\n",
        "AC.fit(X_train)\n",
        "labels_unscaled = AC.labels_\n",
        "\n",
        "KN = KNeighborsClassifier(n_neighbors=10)\n",
        "KN.fit(X_train,labels_unscaled)\n",
        "labels = KN.predict(df)"
      ]
    },
    {
      "cell_type": "code",
      "execution_count": null,
      "metadata": {
        "id": "BBQs7G-ECyng"
      },
      "outputs": [],
      "source": [
        "from mpl_toolkits.mplot3d import Axes3D\n",
        "\n",
        "fig = plt.figure(figsize=(48,35))\n",
        "\n",
        "ax = fig.add_subplot(111, projection='3d')\n",
        "\n",
        "ax.set_axis_off()\n",
        "ax.scatter(df['x'], df['y'], df['z'], s=5,c=labels,cmap='Spectral')\n",
        "ax.view_init(10, -170)\n",
        "\n",
        "plt.show()"
      ]
    },
    {
      "cell_type": "code",
      "execution_count": null,
      "metadata": {
        "id": "UWBKN7xPNgpu"
      },
      "outputs": [],
      "source": [
        "plt.figure(figsize=(40,40),facecolor='w')\n",
        "\n",
        "plt.axis('off')\n",
        "plt.scatter(embedding[:, 0], embedding[:, 1], s=5,c=labels,cmap='Spectral')"
      ]
    },
    {
      "cell_type": "code",
      "execution_count": null,
      "metadata": {
        "id": "mm4BZIxxnU27"
      },
      "outputs": [],
      "source": [
        "n_neighbor_parameters = [3,5,10,15,20,50,100,200]\n",
        "n_neighbor_parameters.reverse()\n",
        "min_distance_parameters = [0.0, 0.1, 0.25, 0.5, 0.8, 0.99]\n",
        "min_distance_parameters.reverse()\n",
        "\n",
        "projections_reverse = {}\n",
        "first = True\n",
        "\n",
        "for n in n_neighbor_parameters:\n",
        "    for d in min_distance_parameters:\n",
        "        if first:\n",
        "            first = False\n",
        "            reducer = umap.UMAP(n_components=2, n_neighbors=n, min_dist=d, metric='euclidean', verbose=True)\n",
        "            reducer.fit(df)\n",
        "        else:\n",
        "            reducer = umap.UMAP(n_components=2, n_neighbors=n, min_dist=d, metric='euclidean', learning_rate=0.9, init=embedding, verbose=True)\n",
        "            reducer.fit(df)\n",
        "\n",
        "        embedding = reducer.embedding_\n",
        "        projections_reverse[f\"n={n},d={d}\"] = embedding.tolist()"
      ]
    },
    {
      "cell_type": "code",
      "source": [
        "# Choose which embedding you want to plot\n",
        "embedding_key = \"n=200,d=0.1\"  # Replace with your desired parameters\n",
        "\n",
        "# Get the embedding from the dictionary and convert to numpy array\n",
        "embedding_array = np.array(projections_reverse[embedding_key])\n",
        "\n",
        "# Plot it exactly like you did before\n",
        "plt.figure(figsize=(40,40), facecolor='w')\n",
        "plt.axis('off')\n",
        "plt.scatter(embedding_array[:, 0], embedding_array[:, 1], s=5, c=labels, cmap='Spectral')"
      ],
      "metadata": {
        "id": "T4O65x1feTRU"
      },
      "execution_count": null,
      "outputs": []
    },
    {
      "cell_type": "code",
      "source": [
        "projections = dict(reversed(list(projections_reverse.items())))\n",
        "\n",
        "# Check the new order\n",
        "print(\"New order:\")\n",
        "for i, key in enumerate(list(projections.keys())[:10]):  # Show first 10\n",
        "    print(f\"{i+1}: {key}\")"
      ],
      "metadata": {
        "id": "4fcKX-yGf_zH"
      },
      "execution_count": null,
      "outputs": []
    },
    {
      "cell_type": "code",
      "execution_count": null,
      "metadata": {
        "id": "4hOERrFTipM1"
      },
      "outputs": [],
      "source": [
        "# Scale floating-point coordinates to 10-bit integers\n",
        "\n",
        "def scale_coordinates_to_integers(projections, target_bits=10):\n",
        "\n",
        "    max_val = (2 ** target_bits) - 1  # 1023 for 10 bits\n",
        "    scaled_projections = {}\n",
        "\n",
        "    for key, coords in projections.items():\n",
        "        coords_array = np.array(coords)\n",
        "\n",
        "        # Find min/max for both x and y\n",
        "        x_coords = coords_array[:, 0]\n",
        "        y_coords = coords_array[:, 1]\n",
        "        x_min, x_max = x_coords.min(), x_coords.max()\n",
        "        y_min, y_max = y_coords.min(), y_coords.max()\n",
        "\n",
        "        # Scale to [0, max_val] range\n",
        "        x_scaled = np.round((x_coords - x_min) / (x_max - x_min) * max_val).astype(int)\n",
        "        y_scaled = np.round((y_coords - y_min) / (y_max - y_min) * max_val).astype(int)\n",
        "\n",
        "        scaled_projections[key] = np.column_stack([x_scaled, y_scaled]).tolist()\n",
        "\n",
        "    return scaled_projections\n",
        "\n",
        "scaled_projections = scale_coordinates_to_integers(projections)\n"
      ]
    },
    {
      "cell_type": "code",
      "execution_count": null,
      "metadata": {
        "id": "Jssni0dgJrzR"
      },
      "outputs": [],
      "source": [
        "# Recreate the same sorting logic that compress_mammoth.js uses\n",
        "label_index_pairs = [(label, idx) for idx, label in enumerate(labels)]\n",
        "sorted_pairs = sorted(label_index_pairs, key=lambda x: x[0])  # Sort by cluster label\n",
        "sorted_indices = [idx for label, idx in sorted_pairs]\n",
        "\n",
        "# 1. Reorder projections\n",
        "reordered_projections = {}\n",
        "for key, projection in scaled_projections.items():\n",
        "    reordered_projection = [projection[idx] for idx in sorted_indices]\n",
        "    reordered_projections[key] = reordered_projection\n",
        "\n",
        "# 2. Reorder 3D data (assuming you're using df_10k or similar)\n",
        "reordered_3d = [df.iloc[idx].tolist() for idx in sorted_indices]\n",
        "\n",
        "# 3. Reorder labels\n",
        "reordered_labels = [labels[idx] for idx in sorted_indices]\n",
        "\n",
        "print(\"Data successfully reordered!\")"
      ]
    },
    {
      "cell_type": "code",
      "execution_count": null,
      "metadata": {
        "id": "_5X9MQ6E0vZ9"
      },
      "outputs": [],
      "source": [
        "# Assemble JSON structure and write to disk\n",
        "\n",
        "out = {\n",
        "    \"projections\": scaled_projections,\n",
        "    \"labels\": labels.tolist(),\n",
        "    \"3d\": df.values.tolist()\n",
        "}\n",
        "\n",
        "with open('mammoth_a_50k.json', \"w\") as f:\n",
        "    json.dump(out, f)"
      ]
    },
    {
      "cell_type": "code",
      "execution_count": null,
      "metadata": {
        "id": "74P15U_AcCmW"
      },
      "outputs": [],
      "source": [
        "\n",
        "# Load the JSON\n",
        "with open('mammoth_a_50k.json', 'r') as f:\n",
        "    data = json.load(f)\n",
        "\n",
        "# Create random indices\n",
        "random_indices = np.random.choice(len(data['labels']), size=10000, replace=False)\n",
        "\n",
        "# Convert to numpy arrays for efficient indexing\n",
        "labels_array = np.array(data['labels'])\n",
        "points_3d_array = np.array(data['3d'])\n",
        "\n",
        "# Subsample\n",
        "subsampled_data = {\n",
        "    \"projections\": {\n",
        "        key: np.array(proj_list)[random_indices].tolist()\n",
        "        for key, proj_list in data['projections'].items()\n",
        "    },\n",
        "    \"labels\": labels_array[random_indices].tolist(),\n",
        "    \"3d\": points_3d_array[random_indices].tolist()\n",
        "}\n",
        "\n",
        "# Save\n",
        "with open('mammoth_a_10k.json', 'w') as f:\n",
        "    json.dump(subsampled_data, f)"
      ]
    },
    {
      "cell_type": "code",
      "source": [],
      "metadata": {
        "id": "bZlfRyGbg8Mk"
      },
      "execution_count": null,
      "outputs": []
    }
  ],
  "metadata": {
    "accelerator": "GPU",
    "colab": {
      "gpuType": "A100",
      "provenance": []
    },
    "kernelspec": {
      "display_name": "Python 3",
      "name": "python3"
    },
    "language_info": {
      "name": "python"
    }
  },
  "nbformat": 4,
  "nbformat_minor": 0
}